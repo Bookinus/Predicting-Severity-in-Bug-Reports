{
 "cells": [
  {
   "cell_type": "code",
   "execution_count": 123,
   "metadata": {},
   "outputs": [],
   "source": [
    "import torch\n",
    "import pandas as pd\n",
    "import numpy as np  \n",
    "import re\n",
    "import os"
   ]
  },
  {
   "cell_type": "code",
   "execution_count": 124,
   "metadata": {},
   "outputs": [],
   "source": [
    "dfEclipse = pd.read_csv(\"https://raw.githubusercontent.com/Bookinus/Predicting-Severity-in-Bug-Reports/refs/heads/main/DataSet/ThesisDataSet/Eclipse.csv\")\n",
    "dfMozilla = pd.read_csv(\"https://raw.githubusercontent.com/Bookinus/Predicting-Severity-in-Bug-Reports/refs/heads/main/DataSet/ThesisDataSet/Mozilla.csv\")\n",
    "dfOpenOffice = pd.read_csv(\"https://raw.githubusercontent.com/Bookinus/Predicting-Severity-in-Bug-Reports/refs/heads/main/DataSet/ThesisDataSet/Openoffice.csv\")"
   ]
  },
  {
   "cell_type": "code",
   "execution_count": 125,
   "metadata": {},
   "outputs": [],
   "source": [
    "dfEclipse.drop(\"bugID\", axis=\"columns\", inplace= True)\n",
    "dfMozilla.drop(\"bugID\", axis=\"columns\", inplace= True)\n",
    "dfOpenOffice.drop(\"bugID\", axis=\"columns\", inplace= True)"
   ]
  },
  {
   "cell_type": "code",
   "execution_count": 126,
   "metadata": {},
   "outputs": [],
   "source": [
    "dfEclipse.drop_duplicates(inplace=True)\n",
    "dfMozilla.drop_duplicates(inplace=True)\n",
    "dfOpenOffice.drop_duplicates(inplace=True)"
   ]
  },
  {
   "cell_type": "code",
   "execution_count": 127,
   "metadata": {},
   "outputs": [],
   "source": [
    "dfEclipse = dfEclipse[dfEclipse.Severity != 'enhancement']\n",
    "\n",
    "dfMozilla = dfMozilla[dfMozilla.Severity != 'enhancement']\n",
    "dfMozilla = dfMozilla[dfMozilla.Severity != \"--\"]\n",
    "dfMozilla.dropna(subset='Severity', inplace=True)"
   ]
  },
  {
   "cell_type": "code",
   "execution_count": 128,
   "metadata": {},
   "outputs": [],
   "source": [
    "dfMozilla.Severity = dfMozilla.Severity.replace(\"S1\", \"blocker\")\n",
    "dfMozilla.Severity = dfMozilla.Severity.replace(\"S2\", \"major\")\n",
    "dfMozilla.Severity = dfMozilla.Severity.replace(\"S3\", \"normal\")\n",
    "dfMozilla.Severity = dfMozilla.Severity.replace(\"S4\", \"minor\")"
   ]
  },
  {
   "cell_type": "code",
   "execution_count": 129,
   "metadata": {},
   "outputs": [],
   "source": [
    "df = pd.concat([dfEclipse, dfMozilla, dfOpenOffice])\n",
    "df.Severity = df.Severity.str.lower()"
   ]
  },
  {
   "cell_type": "code",
   "execution_count": 130,
   "metadata": {},
   "outputs": [
    {
     "name": "stdout",
     "output_type": "stream",
     "text": [
      "                                        TextDescription                  cl  \\\n",
      "0               PDE quickfix creates invalid @Since tag     Eclipse Project   \n",
      "1     Grant access to projects storage service to th...  Eclipse Foundation   \n",
      "2                  Add relation information to REST-API          Automotive   \n",
      "3     Provide platform independent plug-in to set th...     Eclipse Project   \n",
      "4     Inline method refacting reports \"Inaccurate re...     Eclipse Project   \n",
      "...                                                 ...                 ...   \n",
      "4548  Wrong results with wildcard characters if ther...         Application   \n",
      "4549        UI font not changes after font substitution                Code   \n",
      "4550  Slide with graphics totally distorted when imp...         Application   \n",
      "4551    Malayalam Non Unicode Inscript keyboard problem         Application   \n",
      "4552  Mail merge - send to multiple print(fax) does ...         Application   \n",
      "\n",
      "             pd           co   rp             OS           bs  \\\n",
      "0           PDE    API Tools   PC          Linux     VERIFIED   \n",
      "1     Community   CI-Jenkins   PC          Linux       CLOSED   \n",
      "2         MDMBL      General  All            All       CLOSED   \n",
      "3      Platform           UI   PC          Linux       CLOSED   \n",
      "4           JDT           UI   PC          Linux     RESOLVED   \n",
      "...         ...          ...  ...            ...          ...   \n",
      "4548       Calc  open-import  All            All       CLOSED   \n",
      "4549    General           ui   PC   Linux 32-bit       CLOSED   \n",
      "4550    Impress      viewing   PC            All    CONFIRMED   \n",
      "4551     Writer      editing  Mac  Mac OS X, all  UNCONFIRMED   \n",
      "4552     Writer     printing   PC      Windows 7     REOPENED   \n",
      "\n",
      "                    rs Priority Severity  \n",
      "0                FIXED       P3   normal  \n",
      "1            DUPLICATE       P3   normal  \n",
      "2                FIXED       P3    major  \n",
      "3            DUPLICATE       P3   normal  \n",
      "4           WORKSFORME       P3   normal  \n",
      "...                ...      ...      ...  \n",
      "4548  NOT_AN_OOO_ISSUE       P3   normal  \n",
      "4549  NOT_AN_OOO_ISSUE       P3   normal  \n",
      "4550               NaN       P3    major  \n",
      "4551               NaN       P3    major  \n",
      "4552               NaN       P3    major  \n",
      "\n",
      "[15517 rows x 10 columns]\n"
     ]
    }
   ],
   "source": [
    "print(df)"
   ]
  },
  {
   "cell_type": "code",
   "execution_count": null,
   "metadata": {},
   "outputs": [],
   "source": [
    "df.to_csv('../DataSet/CleanDataSet.csv')"
   ]
  }
 ],
 "metadata": {
  "kernelspec": {
   "display_name": "Python 3",
   "language": "python",
   "name": "python3"
  },
  "language_info": {
   "codemirror_mode": {
    "name": "ipython",
    "version": 3
   },
   "file_extension": ".py",
   "mimetype": "text/x-python",
   "name": "python",
   "nbconvert_exporter": "python",
   "pygments_lexer": "ipython3",
   "version": "3.13.2"
  }
 },
 "nbformat": 4,
 "nbformat_minor": 2
}
