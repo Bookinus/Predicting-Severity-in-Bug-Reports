{
 "cells": [
  {
   "cell_type": "code",
   "execution_count": 2,
   "metadata": {},
   "outputs": [],
   "source": [
    "import pandas as pd\n",
    "import re\n",
    "import os"
   ]
  },
  {
   "cell_type": "code",
   "execution_count": 3,
   "metadata": {},
   "outputs": [],
   "source": [
    "dfEclipse = pd.read_csv(\"https://raw.githubusercontent.com/Bookinus/Predicting-Severity-in-Bug-Reports/refs/heads/main/DataSet/ThesisDataSet/Eclipse.csv\")\n",
    "dfMozilla = pd.read_csv(\"https://raw.githubusercontent.com/Bookinus/Predicting-Severity-in-Bug-Reports/refs/heads/main/DataSet/ThesisDataSet/Mozilla.csv\")\n",
    "dfOpenOffice = pd.read_csv(\"https://raw.githubusercontent.com/Bookinus/Predicting-Severity-in-Bug-Reports/refs/heads/main/DataSet/ThesisDataSet/Openoffice.csv\")"
   ]
  },
  {
   "cell_type": "code",
   "execution_count": 4,
   "metadata": {},
   "outputs": [],
   "source": [
    "dfEclipse.drop(\"bugID\", axis=\"columns\", inplace= True)\n",
    "dfMozilla.drop(\"bugID\", axis=\"columns\", inplace= True)\n",
    "dfOpenOffice.drop(\"bugID\", axis=\"columns\", inplace= True)"
   ]
  },
  {
   "cell_type": "code",
   "execution_count": 5,
   "metadata": {},
   "outputs": [],
   "source": [
    "dfEclipse.drop_duplicates(inplace=True)\n",
    "dfMozilla.drop_duplicates(inplace=True)\n",
    "dfOpenOffice.drop_duplicates(inplace=True)"
   ]
  },
  {
   "cell_type": "code",
   "execution_count": 6,
   "metadata": {},
   "outputs": [],
   "source": [
    "dfEclipse = dfEclipse[dfEclipse.Severity != 'enhancement']\n",
    "\n",
    "dfMozilla = dfMozilla[dfMozilla.Severity != 'enhancement']\n",
    "dfMozilla = dfMozilla[dfMozilla.Severity != \"--\"]\n",
    "dfMozilla.dropna(subset='Severity', inplace=True)"
   ]
  },
  {
   "cell_type": "code",
   "execution_count": 7,
   "metadata": {},
   "outputs": [],
   "source": [
    "dfMozilla.Severity = dfMozilla.Severity.replace(\"S1\", \"blocker\")\n",
    "dfMozilla.Severity = dfMozilla.Severity.replace(\"S2\", \"major\")\n",
    "dfMozilla.Severity = dfMozilla.Severity.replace(\"S3\", \"normal\")\n",
    "dfMozilla.Severity = dfMozilla.Severity.replace(\"S4\", \"minor\")"
   ]
  },
  {
   "cell_type": "code",
   "execution_count": 8,
   "metadata": {},
   "outputs": [],
   "source": [
    "df = pd.concat([dfEclipse, dfMozilla, dfOpenOffice])\n",
    "df.Severity = df.Severity.str.lower()"
   ]
  },
  {
   "cell_type": "code",
   "execution_count": 9,
   "metadata": {},
   "outputs": [],
   "source": [
    "df.to_csv('../DataSet/CleanDataSet.csv')"
   ]
  }
 ],
 "metadata": {
  "kernelspec": {
   "display_name": "Python 3",
   "language": "python",
   "name": "python3"
  },
  "language_info": {
   "codemirror_mode": {
    "name": "ipython",
    "version": 3
   },
   "file_extension": ".py",
   "mimetype": "text/x-python",
   "name": "python",
   "nbconvert_exporter": "python",
   "pygments_lexer": "ipython3",
   "version": "3.13.2"
  }
 },
 "nbformat": 4,
 "nbformat_minor": 2
}
