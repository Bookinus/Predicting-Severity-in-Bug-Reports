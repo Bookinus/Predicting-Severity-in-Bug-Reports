{
 "cells": [
  {
   "cell_type": "code",
   "execution_count": 2,
   "metadata": {},
   "outputs": [],
   "source": [
    "import pandas as pd\n",
    "import numpy as np\n",
    "from sklearn import metrics\n",
    "\n",
    "from tensorboardX import SummaryWriter\n"
   ]
  },
  {
   "cell_type": "code",
   "execution_count": 3,
   "metadata": {},
   "outputs": [],
   "source": [
    "writer = SummaryWriter('runs/profiler')"
   ]
  },
  {
   "cell_type": "code",
   "execution_count": 4,
   "metadata": {},
   "outputs": [],
   "source": [
    "df = pd.read_csv(\"https://raw.githubusercontent.com/Bookinus/Predicting-Severity-in-Bug-Reports/refs/heads/main/DataSet/ThesisDataSet/Eclipse.csv\")"
   ]
  },
  {
   "cell_type": "code",
   "execution_count": 7,
   "metadata": {},
   "outputs": [
    {
     "data": {
      "text/html": [
       "<div>\n",
       "<style scoped>\n",
       "    .dataframe tbody tr th:only-of-type {\n",
       "        vertical-align: middle;\n",
       "    }\n",
       "\n",
       "    .dataframe tbody tr th {\n",
       "        vertical-align: top;\n",
       "    }\n",
       "\n",
       "    .dataframe thead th {\n",
       "        text-align: right;\n",
       "    }\n",
       "</style>\n",
       "<table border=\"1\" class=\"dataframe\">\n",
       "  <thead>\n",
       "    <tr style=\"text-align: right;\">\n",
       "      <th></th>\n",
       "      <th>TextDescription</th>\n",
       "      <th>cl</th>\n",
       "      <th>pd</th>\n",
       "      <th>co</th>\n",
       "      <th>rp</th>\n",
       "      <th>OS</th>\n",
       "      <th>bs</th>\n",
       "      <th>rs</th>\n",
       "      <th>Priority</th>\n",
       "      <th>Severity</th>\n",
       "    </tr>\n",
       "  </thead>\n",
       "  <tbody>\n",
       "    <tr>\n",
       "      <th>0</th>\n",
       "      <td>PDE quickfix creates invalid @Since tag</td>\n",
       "      <td>Eclipse Project</td>\n",
       "      <td>PDE</td>\n",
       "      <td>API Tools</td>\n",
       "      <td>PC</td>\n",
       "      <td>Linux</td>\n",
       "      <td>VERIFIED</td>\n",
       "      <td>FIXED</td>\n",
       "      <td>P3</td>\n",
       "      <td>normal</td>\n",
       "    </tr>\n",
       "    <tr>\n",
       "      <th>1</th>\n",
       "      <td>Grant access to projects storage service to th...</td>\n",
       "      <td>Eclipse Foundation</td>\n",
       "      <td>Community</td>\n",
       "      <td>CI-Jenkins</td>\n",
       "      <td>PC</td>\n",
       "      <td>Linux</td>\n",
       "      <td>CLOSED</td>\n",
       "      <td>DUPLICATE</td>\n",
       "      <td>P3</td>\n",
       "      <td>normal</td>\n",
       "    </tr>\n",
       "    <tr>\n",
       "      <th>2</th>\n",
       "      <td>Add relation information to REST-API</td>\n",
       "      <td>Automotive</td>\n",
       "      <td>MDMBL</td>\n",
       "      <td>General</td>\n",
       "      <td>All</td>\n",
       "      <td>All</td>\n",
       "      <td>CLOSED</td>\n",
       "      <td>FIXED</td>\n",
       "      <td>P3</td>\n",
       "      <td>major</td>\n",
       "    </tr>\n",
       "    <tr>\n",
       "      <th>3</th>\n",
       "      <td>Provide platform independent plug-in to set th...</td>\n",
       "      <td>Eclipse Project</td>\n",
       "      <td>Platform</td>\n",
       "      <td>UI</td>\n",
       "      <td>PC</td>\n",
       "      <td>Linux</td>\n",
       "      <td>CLOSED</td>\n",
       "      <td>DUPLICATE</td>\n",
       "      <td>P3</td>\n",
       "      <td>normal</td>\n",
       "    </tr>\n",
       "    <tr>\n",
       "      <th>4</th>\n",
       "      <td>Inline method refacting reports \"Inaccurate re...</td>\n",
       "      <td>Eclipse Project</td>\n",
       "      <td>JDT</td>\n",
       "      <td>UI</td>\n",
       "      <td>PC</td>\n",
       "      <td>Linux</td>\n",
       "      <td>RESOLVED</td>\n",
       "      <td>WORKSFORME</td>\n",
       "      <td>P3</td>\n",
       "      <td>normal</td>\n",
       "    </tr>\n",
       "  </tbody>\n",
       "</table>\n",
       "</div>"
      ],
      "text/plain": [
       "                                     TextDescription                  cl  \\\n",
       "0            PDE quickfix creates invalid @Since tag     Eclipse Project   \n",
       "1  Grant access to projects storage service to th...  Eclipse Foundation   \n",
       "2               Add relation information to REST-API          Automotive   \n",
       "3  Provide platform independent plug-in to set th...     Eclipse Project   \n",
       "4  Inline method refacting reports \"Inaccurate re...     Eclipse Project   \n",
       "\n",
       "          pd          co   rp     OS        bs          rs Priority Severity  \n",
       "0        PDE   API Tools   PC  Linux  VERIFIED       FIXED       P3   normal  \n",
       "1  Community  CI-Jenkins   PC  Linux    CLOSED   DUPLICATE       P3   normal  \n",
       "2      MDMBL     General  All    All    CLOSED       FIXED       P3    major  \n",
       "3   Platform          UI   PC  Linux    CLOSED   DUPLICATE       P3   normal  \n",
       "4        JDT          UI   PC  Linux  RESOLVED  WORKSFORME       P3   normal  "
      ]
     },
     "execution_count": 7,
     "metadata": {},
     "output_type": "execute_result"
    }
   ],
   "source": [
    "df = df[['TextDescription','cl', 'pd', 'co', 'rp', 'OS', 'bs', 'rs', 'Priority', 'Severity']]\n",
    "df.drop_duplicates(inplace=True)\n",
    "df.head()"
   ]
  }
 ],
 "metadata": {
  "kernelspec": {
   "display_name": "Python 3",
   "language": "python",
   "name": "python3"
  },
  "language_info": {
   "codemirror_mode": {
    "name": "ipython",
    "version": 3
   },
   "file_extension": ".py",
   "mimetype": "text/x-python",
   "name": "python",
   "nbconvert_exporter": "python",
   "pygments_lexer": "ipython3",
   "version": "3.13.2"
  }
 },
 "nbformat": 4,
 "nbformat_minor": 2
}
