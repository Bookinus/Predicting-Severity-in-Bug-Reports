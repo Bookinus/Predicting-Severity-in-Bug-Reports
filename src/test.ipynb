{
 "cells": [
  {
   "cell_type": "code",
   "execution_count": null,
   "metadata": {},
   "outputs": [],
   "source": [
    "import torch\n",
    "import pandas as pd\n",
    "import numpy as np  \n",
    "import re\n",
    "\n",
    "dfEclipse = pd.read_csv(\"https://raw.githubusercontent.com/Bookinus/Predicting-Severity-in-Bug-Reports/refs/heads/main/DataSet/ThesisDataSet/Eclipse.csv\")\n",
    "dfMozilla = pd.read_csv(\"https://raw.githubusercontent.com/Bookinus/Predicting-Severity-in-Bug-Reports/refs/heads/main/DataSet/ThesisDataSet/Mozilla.csv\")\n",
    "dfOpenOffice = pd.read_csv(\"https://raw.githubusercontent.com/Bookinus/Predicting-Severity-in-Bug-Reports/refs/heads/main/DataSet/ThesisDataSet/Openoffice.csv\")\n",
    "\n",
    "dfEclipse.drop(\"bugID\", axis=\"columns\", inplace= True)\n",
    "dfMozilla.drop(\"bugID\", axis=\"columns\", inplace= True)\n",
    "dfOpenOffice.drop(\"bugID\", axis=\"columns\", inplace= True)\n",
    "\n",
    "dfEclipse.drop_duplicates(inplace=True)\n",
    "dfMozilla.drop_duplicates(inplace=True)\n",
    "dfOpenOffice.drop_duplicates(inplace=True)"
   ]
  },
  {
   "cell_type": "code",
   "execution_count": 14,
   "metadata": {},
   "outputs": [
    {
     "name": "stdout",
     "output_type": "stream",
     "text": [
      "                                        TextDescription                  cl  \\\n",
      "0               PDE quickfix creates invalid @Since tag     Eclipse Project   \n",
      "1     Grant access to projects storage service to th...  Eclipse Foundation   \n",
      "2                  Add relation information to REST-API          Automotive   \n",
      "3     Provide platform independent plug-in to set th...     Eclipse Project   \n",
      "4     Inline method refacting reports \"Inaccurate re...     Eclipse Project   \n",
      "...                                                 ...                 ...   \n",
      "8473                            JIPP for tools.shellwax  Eclipse Foundation   \n",
      "8474  [13] Highlighting is broken when Unicode equiv...     Eclipse Project   \n",
      "8475            duplicate configure fetch/push commands          Technology   \n",
      "8476             Mailing list for Cargo Tracker project  Eclipse Foundation   \n",
      "8477         Provide convenient MultiStatus constructor     Eclipse Project   \n",
      "\n",
      "             pd            co   rp          OS        bs          rs Priority  \\\n",
      "0           PDE     API Tools   PC       Linux  VERIFIED       FIXED       P3   \n",
      "1     Community    CI-Jenkins   PC       Linux    CLOSED   DUPLICATE       P3   \n",
      "2         MDMBL       General  All         All    CLOSED       FIXED       P3   \n",
      "3      Platform            UI   PC       Linux    CLOSED   DUPLICATE       P3   \n",
      "4           JDT            UI   PC       Linux  RESOLVED  WORKSFORME       P3   \n",
      "...         ...           ...  ...         ...       ...         ...      ...   \n",
      "8473  Community    CI-Jenkins   PC       Linux  RESOLVED       FIXED       P3   \n",
      "8474        JDT            UI   PC    Mac OS X  RESOLVED       FIXED       P3   \n",
      "8475       EGit            UI   PC  Windows 10  RESOLVED       FIXED       P3   \n",
      "8476  Community  MailingLists   PC    Mac OS X  RESOLVED       FIXED       P3   \n",
      "8477    Equinox    Components   PC         All  RESOLVED       FIXED       P3   \n",
      "\n",
      "     Severity  \n",
      "0      normal  \n",
      "1      normal  \n",
      "2       major  \n",
      "3      normal  \n",
      "4      normal  \n",
      "...       ...  \n",
      "8473   normal  \n",
      "8474   normal  \n",
      "8475  trivial  \n",
      "8476   normal  \n",
      "8477   normal  \n",
      "\n",
      "[8478 rows x 10 columns]\n"
     ]
    }
   ],
   "source": [
    "print(dfEclipse)"
   ]
  },
  {
   "cell_type": "code",
   "execution_count": 15,
   "metadata": {},
   "outputs": [
    {
     "name": "stdout",
     "output_type": "stream",
     "text": [
      "                                        TextDescription                  cl  \\\n",
      "0               PDE quickfix creates invalid @Since tag     Eclipse Project   \n",
      "1     Grant access to projects storage service to th...  Eclipse Foundation   \n",
      "2                  Add relation information to REST-API          Automotive   \n",
      "3     Provide platform independent plug-in to set th...     Eclipse Project   \n",
      "4     Inline method refacting reports \"Inaccurate re...     Eclipse Project   \n",
      "...                                                 ...                 ...   \n",
      "8473                            JIPP for tools.shellwax  Eclipse Foundation   \n",
      "8474  [13] Highlighting is broken when Unicode equiv...     Eclipse Project   \n",
      "8475            duplicate configure fetch/push commands          Technology   \n",
      "8476             Mailing list for Cargo Tracker project  Eclipse Foundation   \n",
      "8477         Provide convenient MultiStatus constructor     Eclipse Project   \n",
      "\n",
      "             pd            co   rp          OS        bs          rs Priority  \\\n",
      "0           PDE     API Tools   PC       Linux  VERIFIED       FIXED       P3   \n",
      "1     Community    CI-Jenkins   PC       Linux    CLOSED   DUPLICATE       P3   \n",
      "2         MDMBL       General  All         All    CLOSED       FIXED       P3   \n",
      "3      Platform            UI   PC       Linux    CLOSED   DUPLICATE       P3   \n",
      "4           JDT            UI   PC       Linux  RESOLVED  WORKSFORME       P3   \n",
      "...         ...           ...  ...         ...       ...         ...      ...   \n",
      "8473  Community    CI-Jenkins   PC       Linux  RESOLVED       FIXED       P3   \n",
      "8474        JDT            UI   PC    Mac OS X  RESOLVED       FIXED       P3   \n",
      "8475       EGit            UI   PC  Windows 10  RESOLVED       FIXED       P3   \n",
      "8476  Community  MailingLists   PC    Mac OS X  RESOLVED       FIXED       P3   \n",
      "8477    Equinox    Components   PC         All  RESOLVED       FIXED       P3   \n",
      "\n",
      "     Severity  \n",
      "0      normal  \n",
      "1      normal  \n",
      "2       major  \n",
      "3      normal  \n",
      "4      normal  \n",
      "...       ...  \n",
      "8473   normal  \n",
      "8474   normal  \n",
      "8475  trivial  \n",
      "8476   normal  \n",
      "8477   normal  \n",
      "\n",
      "[6857 rows x 10 columns]\n"
     ]
    }
   ],
   "source": [
    "dfEclipse = dfEclipse[dfEclipse.Severity != 'enhancement']\n",
    "\n",
    "print(dfEclipse)"
   ]
  }
 ],
 "metadata": {
  "kernelspec": {
   "display_name": "Python 3",
   "language": "python",
   "name": "python3"
  },
  "language_info": {
   "codemirror_mode": {
    "name": "ipython",
    "version": 3
   },
   "file_extension": ".py",
   "mimetype": "text/x-python",
   "name": "python",
   "nbconvert_exporter": "python",
   "pygments_lexer": "ipython3",
   "version": "3.13.2"
  }
 },
 "nbformat": 4,
 "nbformat_minor": 2
}
