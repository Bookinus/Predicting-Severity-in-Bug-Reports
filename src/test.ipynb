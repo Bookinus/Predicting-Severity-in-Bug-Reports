{
 "cells": [
  {
   "cell_type": "code",
   "execution_count": 1,
   "metadata": {},
   "outputs": [],
   "source": [
    "import pandas as pd\n",
    "import numpy as np\n",
    "from sklearn import metrics\n",
    "\n",
    "from tensorboardX import SummaryWriter\n"
   ]
  },
  {
   "cell_type": "code",
   "execution_count": 2,
   "metadata": {},
   "outputs": [],
   "source": [
    "writer = SummaryWriter('runs/profiler')"
   ]
  },
  {
   "cell_type": "code",
   "execution_count": 6,
   "metadata": {},
   "outputs": [],
   "source": [
    "df = pd.read_csv(\"/home/melinda/Examensarbete/DataSet/ThesisDataSet/Eclipse.csv\")"
   ]
  },
  {
   "cell_type": "code",
   "execution_count": null,
   "metadata": {},
   "outputs": [
    {
     "name": "stdout",
     "output_type": "stream",
     "text": [
      "                                                     sd                  cl  \\\n",
      "0               PDE quickfix creates invalid @Since tag     Eclipse Project   \n",
      "1     Grant access to projects storage service to th...  Eclipse Foundation   \n",
      "2                  Add relation information to REST-API          Automotive   \n",
      "3     Provide platform independent plug-in to set th...     Eclipse Project   \n",
      "4     Inline method refacting reports \"Inaccurate re...     Eclipse Project   \n",
      "...                                                 ...                 ...   \n",
      "8473                            JIPP for tools.shellwax  Eclipse Foundation   \n",
      "8474  [13] Highlighting is broken when Unicode equiv...     Eclipse Project   \n",
      "8475            duplicate configure fetch/push commands          Technology   \n",
      "8476             Mailing list for Cargo Tracker project  Eclipse Foundation   \n",
      "8477         Provide convenient MultiStatus constructor     Eclipse Project   \n",
      "\n",
      "             pd            co   rp          os        bs          rs  pr  \\\n",
      "0           PDE     API Tools   PC       Linux  VERIFIED       FIXED  P3   \n",
      "1     Community    CI-Jenkins   PC       Linux    CLOSED   DUPLICATE  P3   \n",
      "2         MDMBL       General  All         All    CLOSED       FIXED  P3   \n",
      "3      Platform            UI   PC       Linux    CLOSED   DUPLICATE  P3   \n",
      "4           JDT            UI   PC       Linux  RESOLVED  WORKSFORME  P3   \n",
      "...         ...           ...  ...         ...       ...         ...  ..   \n",
      "8473  Community    CI-Jenkins   PC       Linux  RESOLVED       FIXED  P3   \n",
      "8474        JDT            UI   PC    Mac OS X  RESOLVED       FIXED  P3   \n",
      "8475       EGit            UI   PC  Windows 10  RESOLVED       FIXED  P3   \n",
      "8476  Community  MailingLists   PC    Mac OS X  RESOLVED       FIXED  P3   \n",
      "8477    Equinox    Components   PC         All  RESOLVED       FIXED  P3   \n",
      "\n",
      "          bsr  \n",
      "0      normal  \n",
      "1      normal  \n",
      "2       major  \n",
      "3      normal  \n",
      "4      normal  \n",
      "...       ...  \n",
      "8473   normal  \n",
      "8474   normal  \n",
      "8475  trivial  \n",
      "8476   normal  \n",
      "8477   normal  \n",
      "\n",
      "[8456 rows x 10 columns]\n"
     ]
    }
   ],
   "source": [
    "df = df[['sd','cl', 'pd', 'co', 'rp', 'os', 'bs', 'rs', 'pr', 'bsr']]\n",
    "df.drop_duplicates(inplace=True)\n",
    "print(df)"
   ]
  }
 ],
 "metadata": {
  "kernelspec": {
   "display_name": "Python 3",
   "language": "python",
   "name": "python3"
  },
  "language_info": {
   "codemirror_mode": {
    "name": "ipython",
    "version": 3
   },
   "file_extension": ".py",
   "mimetype": "text/x-python",
   "name": "python",
   "nbconvert_exporter": "python",
   "pygments_lexer": "ipython3",
   "version": "3.13.2"
  }
 },
 "nbformat": 4,
 "nbformat_minor": 2
}
