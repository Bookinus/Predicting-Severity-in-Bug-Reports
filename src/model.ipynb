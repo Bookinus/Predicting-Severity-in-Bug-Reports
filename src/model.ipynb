{
 "cells": [
  {
   "cell_type": "code",
   "execution_count": 27,
   "metadata": {},
   "outputs": [],
   "source": [
    "import torch\n",
    "import pandas as pd\n",
    "import numpy as np  \n",
    "import re"
   ]
  },
  {
   "cell_type": "code",
   "execution_count": 28,
   "metadata": {},
   "outputs": [],
   "source": [
    "dfEclipse = pd.read_csv(\"https://raw.githubusercontent.com/Bookinus/Predicting-Severity-in-Bug-Reports/refs/heads/main/DataSet/ThesisDataSet/Eclipse.csv\")\n",
    "dfMozilla = pd.read_csv(\"https://raw.githubusercontent.com/Bookinus/Predicting-Severity-in-Bug-Reports/refs/heads/main/DataSet/ThesisDataSet/Mozilla.csv\")\n",
    "dfOpenOffice = pd.read_csv(\"https://raw.githubusercontent.com/Bookinus/Predicting-Severity-in-Bug-Reports/refs/heads/main/DataSet/ThesisDataSet/Openoffice.csv\")"
   ]
  },
  {
   "cell_type": "code",
   "execution_count": 29,
   "metadata": {},
   "outputs": [],
   "source": [
    "dfEclipse.drop(\"bugID\", axis=\"columns\", inplace= True)\n",
    "dfMozilla.drop(\"bugID\", axis=\"columns\", inplace= True)\n",
    "dfOpenOffice.drop(\"bugID\", axis=\"columns\", inplace= True)"
   ]
  },
  {
   "cell_type": "code",
   "execution_count": null,
   "metadata": {},
   "outputs": [],
   "source": [
    "dfEclipse.drop_duplicates(inplace=True)\n",
    "dfMozilla.drop_duplicates(inplace=True)\n",
    "dfOpenOffice.drop_duplicates(inplace=True)"
   ]
  },
  {
   "cell_type": "code",
   "execution_count": null,
   "metadata": {},
   "outputs": [
    {
     "name": "stdout",
     "output_type": "stream",
     "text": [
      "                                        TextDescription  \\\n",
      "0     Simplify functions to select a search engine l...   \n",
      "1     [wpt-sync] Sync PR 20497 - Add tests for conte...   \n",
      "2     2.45% displaylist_mutate (linux64-shippable) r...   \n",
      "3     Replace current push from alert summaries with...   \n",
      "4     Assertions for \"test mode\" print an outdated m...   \n",
      "...                                                 ...   \n",
      "4160  C-C TB |make mozmill| test-image-insertion-dia...   \n",
      "4161                 Restore Search Category Filtering!   \n",
      "4162  When sending multiple emails, emails start to ...   \n",
      "4163  Intermittent org.mozilla.geckoview.test.Extens...   \n",
      "4164  Intermittent org.mozilla.geckoview.test.Extens...   \n",
      "\n",
      "                            cl                               pd  \\\n",
      "0              Client Software                          Firefox   \n",
      "1                   Components                          Testing   \n",
      "2                   Components                             Core   \n",
      "3     Developer Infrastructure                  Tree Management   \n",
      "4              Client Software          Data Platform and Tools   \n",
      "...                        ...                              ...   \n",
      "4160           Client Software                      Thunderbird   \n",
      "4161                 Graveyard  developer.mozilla.org Graveyard   \n",
      "4162           Client Software                      Thunderbird   \n",
      "4163                Components                        GeckoView   \n",
      "4164                Components                        GeckoView   \n",
      "\n",
      "                          co           rp           OS        bs       rs  \\\n",
      "0                     Search  Unspecified  Unspecified  RESOLVED    FIXED   \n",
      "1         web-platform-tests          All          All  RESOLVED    FIXED   \n",
      "2           Graphics: Layers  Unspecified  Unspecified  RESOLVED  INVALID   \n",
      "3                 Perfherder  Unspecified  Unspecified       NEW      NaN   \n",
      "4                 Glean: SDK  Unspecified  Unspecified  RESOLVED    FIXED   \n",
      "...                      ...          ...          ...       ...      ...   \n",
      "4160  Testing Infrastructure       x86_64  Unspecified       NEW      NaN   \n",
      "4161                  Search          All        Other  RESOLVED  WONTFIX   \n",
      "4162               Untriaged  Unspecified  Unspecified  RESOLVED  INVALID   \n",
      "4163                 General  Unspecified          All       NEW      NaN   \n",
      "4164                 General  Unspecified          All       NEW      NaN   \n",
      "\n",
      "     Priority Severity  \n",
      "0          P2   normal  \n",
      "1          P4   normal  \n",
      "2          --   normal  \n",
      "3          P2   normal  \n",
      "4          P1   normal  \n",
      "...       ...      ...  \n",
      "4160       --   normal  \n",
      "4161       --   normal  \n",
      "4162       --   normal  \n",
      "4163       P5   normal  \n",
      "4164       P5   normal  \n",
      "\n",
      "[4143 rows x 10 columns]\n"
     ]
    }
   ],
   "source": [
    "dfEclipse = dfEclipse[dfEclipse.Severity != 'enhancement']\n",
    "\n",
    "dfMozilla = dfMozilla[dfMozilla.Severity != 'enhancement']\n",
    "dfMozilla = dfMozilla[dfMozilla[\"Severity\"] != \"--\"]\n",
    "dfMozilla.dropna(subset='Severity', inplace=True)"
   ]
  }
 ],
 "metadata": {
  "kernelspec": {
   "display_name": "Python 3",
   "language": "python",
   "name": "python3"
  },
  "language_info": {
   "codemirror_mode": {
    "name": "ipython",
    "version": 3
   },
   "file_extension": ".py",
   "mimetype": "text/x-python",
   "name": "python",
   "nbconvert_exporter": "python",
   "pygments_lexer": "ipython3",
   "version": "3.13.2"
  }
 },
 "nbformat": 4,
 "nbformat_minor": 2
}
