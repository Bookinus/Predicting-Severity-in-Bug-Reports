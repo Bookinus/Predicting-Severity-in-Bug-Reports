{
 "cells": [
  {
   "cell_type": "code",
   "execution_count": null,
   "metadata": {},
   "outputs": [],
   "source": [
    "import torch\n",
    "import pandas as pd\n",
    "import numpy as np  \n",
    "import re"
   ]
  },
  {
   "cell_type": "code",
   "execution_count": null,
   "metadata": {},
   "outputs": [],
   "source": [
    "dfEclipse = pd.read_csv(\"Examensarbete/DataSet/OriginalDataSet/Eclipse.csv\", sep=';')\n",
    "dfEclipse = pd.read_csv(\"/Examensarbete/DataSet/OriginalDataSet/Eclipse.csv\", sep=';')"
   ]
  }
 ],
 "metadata": {
  "language_info": {
   "name": "python"
  }
 },
 "nbformat": 4,
 "nbformat_minor": 2
}
