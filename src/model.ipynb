{
 "cells": [
  {
   "cell_type": "code",
   "execution_count": null,
   "metadata": {},
   "outputs": [],
   "source": [
    "import torch\n",
    "import pandas as pd\n",
    "import numpy as np  \n",
    "import re"
   ]
  },
  {
   "cell_type": "code",
   "execution_count": null,
   "metadata": {},
   "outputs": [],
   "source": [
    "dfEclipse = pd.read_csv(\"https://raw.githubusercontent.com/Bookinus/Predicting-Severity-in-Bug-Reports/refs/heads/main/DataSet/ThesisDataSet/Eclipse.csv\")\n",
    "dfMozilla = pd.read_csv(\"https://raw.githubusercontent.com/Bookinus/Predicting-Severity-in-Bug-Reports/refs/heads/main/DataSet/ThesisDataSet/Mozilla.csv\")\n",
    "dfOpenOffice = pd.read_csv(\"https://raw.githubusercontent.com/Bookinus/Predicting-Severity-in-Bug-Reports/refs/heads/main/DataSet/ThesisDataSet/Openoffice.csv\")"
   ]
  },
  {
   "cell_type": "code",
   "execution_count": null,
   "metadata": {},
   "outputs": [],
   "source": [
    "dfEclipse.drop(\"bugID\", axis=\"columns\", inplace= True)\n",
    "dfMozilla.drop(\"bugID\", axis=\"columns\", inplace= True)\n",
    "dfOpenOffice.drop(\"bugID\", axis=\"columns\", inplace= True)"
   ]
  },
  {
   "cell_type": "code",
   "execution_count": null,
   "metadata": {},
   "outputs": [],
   "source": [
    "dfEclipse.drop_duplicates(inplace=True)\n",
    "dfMozilla.drop_duplicates(inplace=True)\n",
    "dfOpenOffice.drop_duplicates(inplace=True)"
   ]
  }
 ],
 "metadata": {
  "kernelspec": {
   "display_name": "Python 3",
   "language": "python",
   "name": "python3"
  },
  "language_info": {
   "codemirror_mode": {
    "name": "ipython",
    "version": 3
   },
   "file_extension": ".py",
   "mimetype": "text/x-python",
   "name": "python",
   "nbconvert_exporter": "python",
   "pygments_lexer": "ipython3",
   "version": "3.12.8"
  }
 },
 "nbformat": 4,
 "nbformat_minor": 2
}
