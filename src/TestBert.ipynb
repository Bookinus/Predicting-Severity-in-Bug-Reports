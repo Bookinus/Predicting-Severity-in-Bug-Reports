{
 "cells": [
  {
   "cell_type": "code",
   "execution_count": null,
   "metadata": {},
   "outputs": [],
   "source": [
    "import torch\n",
    "import pandas as pd\n",
    "import numpy as np  \n",
    "import re"
   ]
  },
  {
   "cell_type": "code",
   "execution_count": 8,
   "metadata": {},
   "outputs": [
    {
     "name": "stdout",
     "output_type": "stream",
     "text": [
      "Hello, how are you? I am Romeo.nHello, Romeo My name is Juliet. Nice to meet you.nNice meet you too. How are you today?nGreat. My baseball team won the competition.nOh Congratulations, JulietnThanks you Romeo\n"
     ]
    }
   ],
   "source": [
    "text = (\n",
    "       'Hello, how are you? I am Romeo.n'\n",
    "       'Hello, Romeo My name is Juliet. Nice to meet you.n'\n",
    "       'Nice meet you too. How are you today?n'\n",
    "       'Great. My baseball team won the competition.n'\n",
    "       'Oh Congratulations, Julietn'\n",
    "       'Thanks you Romeo'\n",
    "   )\n",
    "print(text)\n"
   ]
  },
  {
   "cell_type": "code",
   "execution_count": 11,
   "metadata": {},
   "outputs": [
    {
     "name": "stdout",
     "output_type": "stream",
     "text": [
      "['oh', 'my', 'gratulatio', 'how', 's', 'hello', 'the', 'today', 'ice', 'i', 'too', 'ks', 'tha', 'ame', 'competitio', 'juliet', 'are', 'am', 'team', 'wo', 'romeo', 'meet', 'you', 'is', 'to', 'baseball', 'great', 'co']\n"
     ]
    }
   ],
   "source": [
    "sentences = re.sub(\"[.,!?-]\", '', text.lower()).split('n')  # filter '.', ',', '?', '!'\n",
    "word_list = list(set(\" \".join(sentences).split()))\n",
    "print(word_list)"
   ]
  },
  {
   "cell_type": "code",
   "execution_count": 14,
   "metadata": {},
   "outputs": [
    {
     "name": "stdout",
     "output_type": "stream",
     "text": [
      "{'[PAD]': 0, '[CLS]': 1, '[SEP]': 2, '[MASK]': 3, 'oh': 4, 'my': 5, 'gratulatio': 6, 'how': 7, 's': 8, 'hello': 9, 'the': 10, 'today': 11, 'ice': 12, 'i': 13, 'too': 14, 'ks': 15, 'tha': 16, 'ame': 17, 'competitio': 18, 'juliet': 19, 'are': 20, 'am': 21, 'team': 22, 'wo': 23, 'romeo': 24, 'meet': 25, 'you': 26, 'is': 27, 'to': 28, 'baseball': 29, 'great': 30, 'co': 31}\n"
     ]
    }
   ],
   "source": [
    "word_dict = {'[PAD]': 0, '[CLS]': 1, '[SEP]': 2, '[MASK]': 3}\n",
    "for i, w in enumerate(word_list):\n",
    "   word_dict[w] = i + 4\n",
    "   number_dict = {i: w for i, w in enumerate(word_dict)}\n",
    "   vocab_size = len(word_dict)\n",
    "print(word_dict)   "
   ]
  },
  {
   "cell_type": "code",
   "execution_count": null,
   "metadata": {},
   "outputs": [],
   "source": []
  }
 ],
 "metadata": {
  "kernelspec": {
   "display_name": "Python 3",
   "language": "python",
   "name": "python3"
  },
  "language_info": {
   "codemirror_mode": {
    "name": "ipython",
    "version": 3
   },
   "file_extension": ".py",
   "mimetype": "text/x-python",
   "name": "python",
   "nbconvert_exporter": "python",
   "pygments_lexer": "ipython3",
   "version": "3.12.8"
  }
 },
 "nbformat": 4,
 "nbformat_minor": 2
}
