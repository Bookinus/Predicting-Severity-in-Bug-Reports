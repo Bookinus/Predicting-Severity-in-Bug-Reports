{
 "cells": [
  {
   "cell_type": "code",
   "execution_count": 18,
   "metadata": {},
   "outputs": [],
   "source": [
    "import pandas as pd\n",
    "from sklearn.preprocessing import LabelEncoder"
   ]
  },
  {
   "cell_type": "code",
   "execution_count": 19,
   "metadata": {},
   "outputs": [],
   "source": [
    "# Import csv-files from Github to DataFrames\n",
    "dfEclipse = pd.read_csv(\"https://raw.githubusercontent.com/Bookinus/Predicting-Severity-in-Bug-Reports/refs/heads/main/DataSet/ThesisDataSet/Eclipse.csv\")\n",
    "dfMozilla = pd.read_csv(\"https://raw.githubusercontent.com/Bookinus/Predicting-Severity-in-Bug-Reports/refs/heads/main/DataSet/ThesisDataSet/Mozilla.csv\")\n",
    "dfOpenOffice = pd.read_csv(\"https://raw.githubusercontent.com/Bookinus/Predicting-Severity-in-Bug-Reports/refs/heads/main/DataSet/ThesisDataSet/Openoffice.csv\")"
   ]
  },
  {
   "cell_type": "code",
   "execution_count": 20,
   "metadata": {},
   "outputs": [],
   "source": [
    "# Drop columns that will not be used\n",
    "dfEclipse = dfEclipse[[\"TextDescription\", \"Severity\"]]\n",
    "dfMozilla = dfMozilla[[\"TextDescription\", \"Severity\"]]\n",
    "dfOpenOffice = dfOpenOffice[[\"TextDescription\", \"Severity\"]]"
   ]
  },
  {
   "cell_type": "code",
   "execution_count": 21,
   "metadata": {},
   "outputs": [],
   "source": [
    "# Remove duplicates\n",
    "dfEclipse.drop_duplicates(inplace=True)\n",
    "dfMozilla.drop_duplicates(inplace=True)\n",
    "dfOpenOffice.drop_duplicates(inplace=True)"
   ]
  },
  {
   "cell_type": "code",
   "execution_count": 22,
   "metadata": {},
   "outputs": [],
   "source": [
    "# Remove datapoints that are not applicable\n",
    "dfEclipse = dfEclipse[dfEclipse.Severity != 'enhancement']\n",
    "\n",
    "dfMozilla = dfMozilla[dfMozilla.Severity != 'enhancement']\n",
    "dfMozilla = dfMozilla[dfMozilla.Severity != \"--\"]\n",
    "dfMozilla.dropna(subset='Severity', inplace=True)"
   ]
  },
  {
   "cell_type": "code",
   "execution_count": 23,
   "metadata": {},
   "outputs": [],
   "source": [
    "# Convert S1-S4 scale to blocker-trivial scale\n",
    "dfMozilla.Severity = dfMozilla.Severity.replace(\"S1\", \"blocker\")\n",
    "dfMozilla.Severity = dfMozilla.Severity.replace(\"S2\", \"major\")\n",
    "dfMozilla.Severity = dfMozilla.Severity.replace(\"S3\", \"normal\")\n",
    "dfMozilla.Severity = dfMozilla.Severity.replace(\"S4\", \"minor\")"
   ]
  },
  {
   "cell_type": "code",
   "execution_count": 24,
   "metadata": {},
   "outputs": [],
   "source": [
    "# Combine the datasets into one\n",
    "df = pd.concat([dfEclipse, dfMozilla, dfOpenOffice])\n",
    "df.Severity = df.Severity.str.lower()"
   ]
  },
  {
   "cell_type": "code",
   "execution_count": 25,
   "metadata": {},
   "outputs": [],
   "source": [
    "# Encodes the string values in the \"Severity\" column into numerical values, storing the result in a new column\n",
    "label_encoder = LabelEncoder()\n",
    "df[\"EncodedSeverity\"] = label_encoder.fit_transform(df[\"Severity\"])"
   ]
  },
  {
   "cell_type": "code",
   "execution_count": 26,
   "metadata": {},
   "outputs": [],
   "source": [
    "# Save dataset in a csv-file\n",
    "df.to_csv('../DataSet/CleanDataSet.csv')"
   ]
  }
 ],
 "metadata": {
  "kernelspec": {
   "display_name": "sklearn-env",
   "language": "python",
   "name": "python3"
  },
  "language_info": {
   "codemirror_mode": {
    "name": "ipython",
    "version": 3
   },
   "file_extension": ".py",
   "mimetype": "text/x-python",
   "name": "python",
   "nbconvert_exporter": "python",
   "pygments_lexer": "ipython3",
   "version": "3.12.3"
  }
 },
 "nbformat": 4,
 "nbformat_minor": 2
}
